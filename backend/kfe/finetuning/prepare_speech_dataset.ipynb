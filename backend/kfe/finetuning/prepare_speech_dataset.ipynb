{
 "cells": [
  {
   "cell_type": "code",
   "execution_count": null,
   "metadata": {},
   "outputs": [],
   "source": [
    "import os\n",
    "import sys\n",
    "from pathlib import Path\n",
    "\n",
    "# make sure the project modules can be found\n",
    "src_path = Path(os.getcwd()).parent.parent.absolute()\n",
    "sys.path.append(str(src_path))"
   ]
  },
  {
   "cell_type": "code",
   "execution_count": null,
   "metadata": {},
   "outputs": [],
   "source": [
    "import io\n",
    "from kfe.persistence.file_metadata_repository import FileMetadataRepository\n",
    "from kfe.persistence.model import FileMetadata\n",
    "from kfe.dependencies import app_db\n",
    "from kfe.persistence.db import Database\n",
    "from kfe.persistence.directory_repository import DirectoryRepository\n",
    "from kfe.features.transcriber import Transcriber"
   ]
  },
  {
   "cell_type": "code",
   "execution_count": null,
   "metadata": {},
   "outputs": [],
   "source": [
    "# directory name that you registered in app\n",
    "directory_name = 'TODO'\n",
    "\n",
    "# texts on which finetuning should be performed\n",
    "files_with_manually_fixed_transcripts: list[FileMetadata] = []\n",
    "\n",
    "await app_db.init_db()\n",
    "async with app_db.session() as session:\n",
    "    root_dir = (await DirectoryRepository(session).get_by_name(directory_name)).path\n",
    "\n",
    "# optionally ignore files with insufficient quality (data for finetuning must be correct)\n",
    "skip_files = set([\n",
    "    'output2.mp4',\n",
    "    'output_video.mp4',\n",
    "    '331993281_6075996049127954_7515833594348442525_n.mp4',\n",
    "    '334852651_6018118081603092_8756442741067117699_n.mp4',\n",
    "    '342090950_6790032441012002_7450332501589782825_n.mp4',\n",
    "    '350668782_6515570488505362_8154329955946525513_n.mp4',\n",
    "    '353470587_6537274892962573_1572881441717822125_n.mp4',\n",
    "    '355342796_24019529530965742_5532146776141433994_n.mp4'\n",
    "])\n",
    "\n",
    "files_db = Database(root_dir, log_sql=False)\n",
    "await files_db.init_db()\n",
    "async with files_db.session() as session:\n",
    "    repo = FileMetadataRepository(session)\n",
    "    files = await repo.load_all_files()\n",
    "    for f in files:\n",
    "        if str(f.name) in skip_files:\n",
    "            continue\n",
    "        if f.is_transcript_analyzed and f.transcript is not None and f.transcript != '' and f.is_transcript_fixed:\n",
    "            files_with_manually_fixed_transcripts.append(f)"
   ]
  },
  {
   "cell_type": "code",
   "execution_count": null,
   "metadata": {},
   "outputs": [],
   "source": [
    "print('number of available files for finetuning:', len(files_with_manually_fixed_transcripts))"
   ]
  },
  {
   "cell_type": "code",
   "execution_count": null,
   "metadata": {},
   "outputs": [],
   "source": [
    "preprocessed_data_dir = Path('./speech_finetuning_data')\n",
    "os.mkdir(preprocessed_data_dir)\n",
    "print(f'finetuning audio files will be saved at: {preprocessed_data_dir.absolute()}')"
   ]
  },
  {
   "cell_type": "code",
   "execution_count": null,
   "metadata": {},
   "outputs": [],
   "source": [
    "model_sampling_rate = 16000 # sampling rate on which model was trained, in case of models used in app it's 16kHz\n",
    "num_files = 0\n",
    "\n",
    "transcriber = Transcriber(None)\n",
    "with open(preprocessed_data_dir.joinpath('transcriptions.txt'), 'w') as f:\n",
    "    for file in files_with_manually_fixed_transcripts:\n",
    "        path = root_dir.joinpath(file.name)\n",
    "        try:\n",
    "            parts = []\n",
    "            async for part in transcriber._get_preprocessed_audio_file(path, sampling_rate=model_sampling_rate):\n",
    "                parts.append(part)\n",
    "            # skip longer files since we don't know how to split transcription text\n",
    "            if len(parts) > 1:\n",
    "                continue  \n",
    "            audio_data: io.BytesIO = parts[0]\n",
    "            target_path = preprocessed_data_dir.joinpath(file.name + '.wav')\n",
    "            with open(target_path, 'wb') as target:\n",
    "                audio_data.seek(0)\n",
    "                target.write(audio_data.getvalue())\n",
    "            transcription = str(file.transcript).replace(\"\\n\", \" \")\n",
    "            f.write(f'{file.name}.wav: {transcription}' + '\\n')\n",
    "            num_files += 1\n",
    "        except Exception as e:\n",
    "            print(e)\n",
    "\n",
    "print('number of files that will be used for finetuning:', num_files)"
   ]
  }
 ],
 "metadata": {
  "kernelspec": {
   "display_name": "env",
   "language": "python",
   "name": "python3"
  },
  "language_info": {
   "codemirror_mode": {
    "name": "ipython",
    "version": 3
   },
   "file_extension": ".py",
   "mimetype": "text/x-python",
   "name": "python",
   "nbconvert_exporter": "python",
   "pygments_lexer": "ipython3",
   "version": "3.10.12"
  }
 },
 "nbformat": 4,
 "nbformat_minor": 2
}
