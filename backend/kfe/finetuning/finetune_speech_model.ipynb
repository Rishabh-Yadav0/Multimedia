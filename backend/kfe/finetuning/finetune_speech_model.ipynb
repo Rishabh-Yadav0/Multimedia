{
 "cells": [
  {
   "cell_type": "markdown",
   "metadata": {},
   "source": [
    "there are some problems with huggingsound dependencies, I managed to get it working with:\n",
    "\n",
    "```\n",
    "pip install huggingsound \n",
    "pip install transformers==4.25\n",
    "```"
   ]
  },
  {
   "cell_type": "code",
   "execution_count": null,
   "metadata": {},
   "outputs": [],
   "source": [
    "from pathlib import Path\n",
    "# this is using original huggingsound, not modified version from project files\n",
    "from huggingsound import SpeechRecognitionModel\n",
    "from huggingsound.speech_recognition.model import TrainingArguments\n",
    "from sklearn.model_selection import train_test_split\n",
    "import pickle\n",
    "import numpy as np\n",
    "\n",
    "np.random.seed(33)"
   ]
  },
  {
   "cell_type": "code",
   "execution_count": null,
   "metadata": {},
   "outputs": [],
   "source": [
    "preprocessed_data_dir = Path('./speech_finetuning_data')\n",
    "with open(preprocessed_data_dir.joinpath('transcriptions.txt')) as f:\n",
    "    lines = f.readlines()\n",
    "\n",
    "dataset = []\n",
    "for line in lines:\n",
    "    sep_idx = line.index(':')\n",
    "    filename = line[:sep_idx]\n",
    "    transcription = line[sep_idx + 2:-1]\n",
    "    file_path = preprocessed_data_dir.joinpath(filename)\n",
    "    assert file_path.exists()\n",
    "    dataset.append({\n",
    "        'path': str(file_path.absolute()),\n",
    "        'transcription': transcription\n",
    "    })"
   ]
  },
  {
   "cell_type": "code",
   "execution_count": null,
   "metadata": {},
   "outputs": [],
   "source": [
    "train, test = train_test_split(dataset, test_size=0.15)\n",
    "train, eval = train_test_split(train, test_size=0.15)"
   ]
  },
  {
   "cell_type": "code",
   "execution_count": null,
   "metadata": {},
   "outputs": [],
   "source": [
    "with open('./speech_finetuning_data/test_data_split.json', 'wb') as f:\n",
    "    pickle.dump(test, f)"
   ]
  },
  {
   "cell_type": "code",
   "execution_count": null,
   "metadata": {},
   "outputs": [],
   "source": [
    "model = SpeechRecognitionModel(\"jonatasgrosman/wav2vec2-large-xlsr-53-polish\", device='cuda')\n",
    "output_dir = './speech_model_finetuned'\n",
    "model.finetune(\n",
    "    output_dir,\n",
    "    train_data=train,\n",
    "    eval_data=eval,\n",
    "    training_args=TrainingArguments(\n",
    "        per_device_train_batch_size=2,\n",
    "        per_device_eval_batch_size=2,\n",
    "        learning_rate=2e-4,\n",
    "        num_train_epochs=2,\n",
    "        eval_steps=40,\n",
    "        logging_steps=40,\n",
    "        gradient_accumulation_steps=1,\n",
    "    )\n",
    ")"
   ]
  },
  {
   "cell_type": "code",
   "execution_count": null,
   "metadata": {},
   "outputs": [],
   "source": [
    "model.evaluate(test, decoder=None)"
   ]
  }
 ],
 "metadata": {
  "kernelspec": {
   "display_name": "env",
   "language": "python",
   "name": "python3"
  },
  "language_info": {
   "codemirror_mode": {
    "name": "ipython",
    "version": 3
   },
   "file_extension": ".py",
   "mimetype": "text/x-python",
   "name": "python",
   "nbconvert_exporter": "python",
   "pygments_lexer": "ipython3",
   "version": "3.10.12"
  }
 },
 "nbformat": 4,
 "nbformat_minor": 2
}
